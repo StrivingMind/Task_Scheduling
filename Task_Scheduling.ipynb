{
  "nbformat": 4,
  "nbformat_minor": 0,
  "metadata": {
    "colab": {
      "provenance": []
    },
    "kernelspec": {
      "name": "python3",
      "display_name": "Python 3"
    },
    "language_info": {
      "name": "python"
    }
  },
  "cells": [
    {
      "cell_type": "code",
      "execution_count": null,
      "metadata": {
        "id": "PzdYRa_5mSTj"
      },
      "outputs": [],
      "source": [
        "#importing libraries\n",
        "import heapq\n",
        "import random\n",
        "import numpy as np"
      ]
    },
    {
      "cell_type": "code",
      "source": [
        "# Task structure: (task_id, arrival_time, exec_time, deadline, criticality)\n",
        "class Task:\n",
        "    def __init__(self, task_id, arrival_time, exec_time, deadline, criticality):\n",
        "        self.task_id = task_id\n",
        "        self.arrival_time = arrival_time\n",
        "        self.exec_time = exec_time\n",
        "        self.deadline = deadline\n",
        "        self.criticality = criticality  # 'high' or 'low'\n",
        "        self.remaining_time = exec_time  # Time remaining to complete the task\n",
        "\n",
        "    def __lt__(self, other):\n",
        "        # Priority: (1) Criticality, (2) Deadline\n",
        "        if self.criticality == other.criticality:\n",
        "            return self.deadline < other.deadline  # for priority queue based on deadline\n",
        "        return self.criticality == 'high'  # high-criticality tasks get higher priority"
      ],
      "metadata": {
        "id": "4rDeyqramswz"
      },
      "execution_count": null,
      "outputs": []
    },
    {
      "cell_type": "markdown",
      "source": [
        "# **Scheduling using KKT**"
      ],
      "metadata": {
        "id": "w0slLs_Hf_sy"
      }
    },
    {
      "cell_type": "code",
      "source": [
        "# Scheduler class with KKT and preemption handling\n",
        "class KKT_Scheduler:\n",
        "    def __init__(self):\n",
        "        self.current_time = 0\n",
        "        self.task_queue = []  # Priority queue for tasks based on deadlines\n",
        "        self.completed_tasks = []  # List of completed tasks\n",
        "        self.missed_tasks = []  # List of missed tasks\n",
        "        self.penalty = 0  # Total penalty for missed low-criticality tasks\n",
        "        self.current_task = None  # The currently executing task\n",
        "        self.lagrange_multipliers = {}  # To store Lagrange multipliers for constraints\n",
        "\n",
        "    def add_task(self, task):\n",
        "        heapq.heappush(self.task_queue, task)\n",
        "\n",
        "    def apply_barrier_method(self, task):\n",
        "    # Barrier method introduces exponential penalty as deadlines approach\n",
        "      time_left = task.deadline - self.current_time\n",
        "      if time_left <= 0:\n",
        "        return 1000  # Set a large penalty for missed deadlines\n",
        "      return 1 / time_left  # As deadline approaches, penalty increases\n",
        "\n",
        "    def apply_kkt_conditions(self, task):\n",
        "        # Objective: minimize penalty for missed deadlines with constraints (task deadlines)\n",
        "        # Lagrangian formulation: L = penalty + lambda * (task execution time constraint)\n",
        "        exec_time = task.remaining_time\n",
        "        time_left = task.deadline - self.current_time\n",
        "\n",
        "        if time_left > 0:\n",
        "            # Lagrange multiplier is calculated based on how close the task is to its deadline\n",
        "            self.lagrange_multipliers[task.task_id] = 1 / time_left\n",
        "            # Adjust execution time based on KKT (for simplicity, we simulate this)\n",
        "            adjusted_exec_time = exec_time - self.lagrange_multipliers[task.task_id] * 0.1\n",
        "            return max(adjusted_exec_time, 0)  # Ensure no negative execution time\n",
        "        else:\n",
        "            return 0  # Task already missed its deadline\n",
        "\n",
        "    def preempt_task(self, new_task):\n",
        "        # Preempt current task if new_task has higher priority\n",
        "        if self.current_task and self.current_task.criticality == 'low' and new_task.criticality == 'high':\n",
        "            print(f\"Preempting low-criticality task {self.current_task.task_id} for high-criticality task {new_task.task_id}\")\n",
        "            # Push current task back into the queue to be resumed later\n",
        "            heapq.heappush(self.task_queue, self.current_task)\n",
        "            self.current_task = new_task\n",
        "        else:\n",
        "            heapq.heappush(self.task_queue, new_task)\n",
        "\n",
        "    def run(self):\n",
        "        while self.task_queue:\n",
        "            # Get the task with the earliest deadline or higher criticality\n",
        "            self.current_task = heapq.heappop(self.task_queue)\n",
        "\n",
        "            # Adjust execution time using KKT conditions\n",
        "            self.current_task.remaining_time = self.apply_kkt_conditions(self.current_task)\n",
        "\n",
        "            # Check if the task can be completed by its deadline\n",
        "            if self.current_time + self.current_task.remaining_time <= self.current_task.deadline:\n",
        "                # Execute the task fully\n",
        "                self.current_time += self.current_task.remaining_time\n",
        "                self.current_task.remaining_time = 0\n",
        "                print(f\"Task {self.current_task.task_id} completed at time {self.current_time}\")\n",
        "                self.completed_tasks.append(self.current_task)\n",
        "            else:\n",
        "                # The task misses its deadline\n",
        "                if self.current_task.criticality == 'high':\n",
        "                    print(f\"Missed a high-criticality task: {self.current_task.task_id}\")\n",
        "                    #raise Exception(\"High-criticality task missed its deadline! System failure.\")\n",
        "                    print(\"High-criticality task missed its deadline! System failure.\")\n",
        "                    return  # Exit the function if a high-criticality task is missed\n",
        "                else:\n",
        "                    print(f\"Missed a low-criticality task: {self.current_task.task_id}\")\n",
        "                    self.missed_tasks.append(self.current_task)\n",
        "                    self.penalty += self.apply_barrier_method(self.current_task)  # Apply penalty\n",
        "\n",
        "            # Process tasks arriving in the meantime and handle preemption\n",
        "            if self.task_queue and self.task_queue[0].criticality == 'high':\n",
        "                self.preempt_task(heapq.heappop(self.task_queue))\n",
        "\n",
        "    def report(self):\n",
        "        print(f\"Completed tasks: {[task.task_id for task in self.completed_tasks]}\")\n",
        "        print(f\"Missed tasks: {[task.task_id for task in self.missed_tasks]}\")\n",
        "        print(f\"Total penalty for missed low-criticality tasks: {self.penalty}\")\n"
      ],
      "metadata": {
        "id": "mD9_dUvTmzmK"
      },
      "execution_count": null,
      "outputs": []
    },
    {
      "cell_type": "code",
      "source": [
        "# Simulate random task arrival with high and low criticality\n",
        "def task_generator(num_tasks):\n",
        "    tasks = []\n",
        "    for i in range(num_tasks):\n",
        "        task_id = i + 1\n",
        "        arrival_time = random.randint(0, 10)\n",
        "        exec_time = random.randint(1, 5)\n",
        "        deadline = arrival_time + random.randint(5, 10)\n",
        "        criticality = random.choice(['high', 'low'])\n",
        "        tasks.append(Task(task_id, arrival_time, exec_time, deadline, criticality))\n",
        "    return tasks\n"
      ],
      "metadata": {
        "id": "hqPGsHv6nNnZ"
      },
      "execution_count": null,
      "outputs": []
    },
    {
      "cell_type": "code",
      "source": [
        "# Main simulation\n",
        "kkt_scheduler = KKT_Scheduler()\n",
        "\n",
        "# Generate a list of tasks\n",
        "tasks = task_generator(10)\n",
        "\n",
        "# Add tasks to scheduler\n",
        "for task in tasks:\n",
        "    kkt_scheduler.add_task(task)\n",
        "\n",
        "# Run the scheduler\n",
        "kkt_scheduler.run()\n"
      ],
      "metadata": {
        "colab": {
          "base_uri": "https://localhost:8080/"
        },
        "id": "-TMZr-QpnSMP",
        "outputId": "7cfe8192-46f1-4b04-bdaa-395a018b7dd3"
      },
      "execution_count": null,
      "outputs": [
        {
          "output_type": "stream",
          "name": "stdout",
          "text": [
            "Task 5 completed at time 3.9916666666666667\n",
            "Task 10 completed at time 4.983339116354384\n",
            "Missed a low-criticality task: 3\n",
            "Missed a low-criticality task: 6\n",
            "Missed a low-criticality task: 7\n",
            "Task 2 completed at time 7.963405538558444\n",
            "Task 9 completed at time 8.938632180482664\n",
            "Task 4 completed at time 10.914009933879083\n",
            "Task 8 completed at time 14.89434807872405\n",
            "Task 1 completed at time 19.874761941333194\n"
          ]
        }
      ]
    },
    {
      "cell_type": "code",
      "source": [
        "# Report results\n",
        "kkt_scheduler.report()"
      ],
      "metadata": {
        "colab": {
          "base_uri": "https://localhost:8080/"
        },
        "id": "I1YlUUXGog7C",
        "outputId": "12790d11-73bc-4b78-9300-63193e1c9e7d"
      },
      "execution_count": null,
      "outputs": [
        {
          "output_type": "stream",
          "name": "stdout",
          "text": [
            "Completed tasks: [5, 10, 2, 9, 4, 8, 1]\n",
            "Missed tasks: [3, 6, 7]\n",
            "Total penalty for missed low-criticality tasks: 1.8109736911190044\n"
          ]
        }
      ]
    },
    {
      "cell_type": "code",
      "source": [],
      "metadata": {
        "id": "Rr_Pbomfomuw"
      },
      "execution_count": null,
      "outputs": []
    },
    {
      "cell_type": "markdown",
      "source": [
        "# **Scheduling using Line Search**"
      ],
      "metadata": {
        "id": "vp4HcpFygFtn"
      }
    },
    {
      "cell_type": "code",
      "source": [
        "# Scheduler class with line search optimization\n",
        "class LineSearch_Scheduler:\n",
        "    def __init__(self):\n",
        "        self.current_time = 0\n",
        "        self.task_queue = []  # Priority queue for tasks based on deadlines\n",
        "        self.completed_tasks = []  # List of completed tasks\n",
        "        self.missed_tasks = []  # List of missed tasks\n",
        "        self.penalty = 0  # Total penalty for missed low-criticality tasks\n",
        "        self.current_task = None  # The currently executing task\n",
        "\n",
        "    def add_task(self, task):\n",
        "        heapq.heappush(self.task_queue, task)\n",
        "\n",
        "    def apply_barrier_method(self, task):\n",
        "        # Exponential penalty as deadlines approach (barrier method)\n",
        "        time_left = task.deadline - self.current_time\n",
        "        if time_left <= 0:\n",
        "            return float('inf')  # Missed deadline results in maximum penalty\n",
        "        return 1 / time_left  # As deadline approaches, penalty increases\n",
        "\n",
        "    def preempt_task(self, new_task):\n",
        "        # Preempt current task if new_task has higher priority\n",
        "        if self.current_task and self.current_task.criticality == 'low' and new_task.criticality == 'high':\n",
        "            print(f\"Preempting low-criticality task {self.current_task.task_id} for high-criticality task {new_task.task_id}\")\n",
        "            # Push current task back into the queue to be resumed later\n",
        "            heapq.heappush(self.task_queue, self.current_task)\n",
        "            self.current_task = new_task\n",
        "        else:\n",
        "            heapq.heappush(self.task_queue, new_task)\n",
        "\n",
        "    def line_search(self, task, step_size=0.1, tolerance=1e-5):\n",
        "        \"\"\"Perform line search to minimize the cost (missed deadlines/penalty) based on allocated time.\"\"\"\n",
        "        exec_time = task.exec_time\n",
        "        min_cost = self.compute_cost(task, exec_time)\n",
        "        optimal_time = exec_time\n",
        "\n",
        "        # Iterate and adjust exec_time to minimize the cost\n",
        "        for i in range(100):  # Limit iterations to avoid infinite loops\n",
        "            # Adjust task execution time slightly and compute new cost\n",
        "            new_time = exec_time - step_size\n",
        "            if new_time <= 0:\n",
        "                break  # Execution time cannot be negative or zero\n",
        "\n",
        "            new_cost = self.compute_cost(task, new_time)\n",
        "            if new_cost < min_cost:\n",
        "                min_cost = new_cost\n",
        "                optimal_time = new_time\n",
        "                exec_time = new_time\n",
        "            elif abs(new_cost - min_cost) < tolerance:\n",
        "                break  # Stop if cost does not significantly decrease\n",
        "\n",
        "        return optimal_time\n",
        "\n",
        "    def compute_cost(self, task, exec_time):\n",
        "        \"\"\"Cost function: Includes the penalty for missed deadlines and resource usage.\"\"\"\n",
        "        if self.current_time + exec_time > task.deadline:\n",
        "            # Missed deadline incurs a large penalty, especially for high-criticality tasks\n",
        "            return float('inf') if task.criticality == 'high' else 100 * (self.current_time + exec_time - task.deadline)\n",
        "        # Resource usage is proportional to execution time\n",
        "        return exec_time  # Cost is proportional to resource usage\n",
        "\n",
        "    def run(self):\n",
        "        while self.task_queue:\n",
        "            # Get the task with the earliest deadline or higher criticality\n",
        "            self.current_task = heapq.heappop(self.task_queue)\n",
        "\n",
        "            # Fine-tune the execution time using line search to minimize cost\n",
        "            optimal_exec_time = self.line_search(self.current_task)\n",
        "            self.current_task.remaining_time = optimal_exec_time\n",
        "\n",
        "            # Check if the task can be completed by its deadline\n",
        "            if self.current_time + self.current_task.remaining_time <= self.current_task.deadline:\n",
        "                # Execute the task fully\n",
        "                self.current_time += self.current_task.remaining_time\n",
        "                self.current_task.remaining_time = 0\n",
        "                print(f\"Task {self.current_task.task_id} completed at time {self.current_time}\")\n",
        "                self.completed_tasks.append(self.current_task)\n",
        "            else:\n",
        "                # The task misses its deadline\n",
        "                if self.current_task.criticality == 'high':\n",
        "                    print(f\"Missed a high-criticality task: {self.current_task.task_id}\")\n",
        "                    raise Exception(\"High-criticality task missed its deadline! System failure.\")\n",
        "                else:\n",
        "                    print(f\"Missed a low-criticality task: {self.current_task.task_id}\")\n",
        "                    self.missed_tasks.append(self.current_task)\n",
        "                    self.penalty += self.apply_barrier_method(self.current_task)  # Apply penalty\n",
        "\n",
        "            # Process tasks arriving in the meantime and handle preemption\n",
        "            if self.task_queue and self.task_queue[0].criticality == 'high':\n",
        "                self.preempt_task(heapq.heappop(self.task_queue))\n",
        "\n",
        "    def report(self):\n",
        "        print(f\"Completed tasks: {[task.task_id for task in self.completed_tasks]}\")\n",
        "        print(f\"Missed tasks: {[task.task_id for task in self.missed_tasks]}\")\n",
        "        print(f\"Total penalty for missed low-criticality tasks: {self.penalty}\")"
      ],
      "metadata": {
        "id": "G-3GmjP4st-v"
      },
      "execution_count": null,
      "outputs": []
    },
    {
      "cell_type": "code",
      "source": [
        "# Main simulation\n",
        "line_scheduler = LineSearch_Scheduler()\n",
        "\n",
        "# Generate a list of tasks\n",
        "tasks = task_generator(10)\n",
        "\n",
        "# Add tasks to scheduler\n",
        "for task in tasks:\n",
        "    line_scheduler.add_task(task)\n",
        "\n",
        "# Run the scheduler\n",
        "line_scheduler.run()"
      ],
      "metadata": {
        "colab": {
          "base_uri": "https://localhost:8080/"
        },
        "id": "SxbSVNA7tTSA",
        "outputId": "9286d8fa-117d-4e42-87e4-71510e3de39c"
      },
      "execution_count": null,
      "outputs": [
        {
          "output_type": "stream",
          "name": "stdout",
          "text": [
            "Task 5 completed at time 0.09999999999999848\n",
            "Task 10 completed at time 0.0999999999999995\n",
            "Task 6 completed at time 0.10000000000000053\n",
            "Task 3 completed at time 0.10000000000000067\n",
            "Task 4 completed at time 0.20000000000000004\n",
            "Task 7 completed at time 0.2999999999999976\n",
            "Task 1 completed at time 0.39999999999999697\n",
            "Task 2 completed at time 0.49999999999999634\n",
            "Task 9 completed at time 0.49999999999999645\n",
            "Task 8 completed at time 0.5999999999999941\n"
          ]
        }
      ]
    },
    {
      "cell_type": "code",
      "source": [
        "line_scheduler.report()"
      ],
      "metadata": {
        "colab": {
          "base_uri": "https://localhost:8080/"
        },
        "id": "7gApe-2Atims",
        "outputId": "49b3c9d3-0a8c-4e32-e0dc-89f54db18ccf"
      },
      "execution_count": null,
      "outputs": [
        {
          "output_type": "stream",
          "name": "stdout",
          "text": [
            "Completed tasks: [5, 10, 6, 3, 4, 7, 1, 2, 9, 8]\n",
            "Missed tasks: []\n",
            "Total penalty for missed low-criticality tasks: 0\n"
          ]
        }
      ]
    },
    {
      "cell_type": "code",
      "source": [],
      "metadata": {
        "id": "TTzkGjDZtlkG"
      },
      "execution_count": null,
      "outputs": []
    },
    {
      "cell_type": "markdown",
      "source": [
        "# **Scheduling Comparison Between KKT and Line Search**"
      ],
      "metadata": {
        "id": "PxJXDc7kgKXi"
      }
    },
    {
      "cell_type": "code",
      "source": [
        "import matplotlib.pyplot as plt\n",
        "\n",
        "# Collecting results from both schedulers\n",
        "kkt_completed_count = len(kkt_scheduler.completed_tasks)\n",
        "kkt_missed_count = len(kkt_scheduler.missed_tasks)\n",
        "kkt_penalty = kkt_scheduler.penalty\n",
        "\n",
        "line_completed_count = len(line_scheduler.completed_tasks)\n",
        "line_missed_count = len(line_scheduler.missed_tasks)\n",
        "line_penalty = line_scheduler.penalty\n",
        "\n",
        "# Data for visualization\n",
        "labels = ['KKT', 'Line Search']\n",
        "completed_counts = [kkt_completed_count, line_completed_count]\n",
        "missed_counts = [kkt_missed_count, line_missed_count]\n",
        "penalties = [kkt_penalty, line_penalty]\n",
        "\n",
        "x = np.arange(len(labels))\n",
        "width = 0.25\n",
        "\n",
        "# Plotting\n",
        "fig, ax = plt.subplots(figsize=(10, 6))\n",
        "\n",
        "# bars for completed tasks\n",
        "bars1 = ax.bar(x - width, completed_counts, width, label='Completed Tasks', color='lightgreen')\n",
        "# bars for missed tasks\n",
        "bars2 = ax.bar(x, missed_counts, width, label='Missed Tasks', color='salmon')\n",
        "# bars for penalties\n",
        "bars3 = ax.bar(x + width, penalties, width, label='Total Penalty', color='lightblue')\n",
        "\n",
        "\n",
        "ax.set_ylabel('Count / Penalty')\n",
        "ax.set_title('Comparison of KKT and Line Search Scheduling Algorithms')\n",
        "ax.set_xticks(x)\n",
        "ax.set_xticklabels(labels)\n",
        "ax.legend()\n",
        "\n",
        "# Adding value annotations on top of bars\n",
        "def add_value_labels(bars):\n",
        "    for bar in bars:\n",
        "        height = bar.get_height()\n",
        "        ax.annotate('{}'.format(height),\n",
        "                    xy=(bar.get_x() + bar.get_width() / 2, height),\n",
        "                    xytext=(0, 3),  # 3 points vertical offset\n",
        "                    textcoords=\"offset points\",\n",
        "                    ha='center', va='bottom')\n",
        "\n",
        "add_value_labels(bars1)\n",
        "add_value_labels(bars2)\n",
        "add_value_labels(bars3)\n",
        "\n",
        "plt.tight_layout()\n",
        "plt.show()\n"
      ],
      "metadata": {
        "colab": {
          "base_uri": "https://localhost:8080/",
          "height": 607
        },
        "id": "bJ5xA7YYdAR6",
        "outputId": "14a3aaa4-6df0-4dec-fb5d-e6af86b5a28f"
      },
      "execution_count": null,
      "outputs": [
        {
          "output_type": "display_data",
          "data": {
            "text/plain": [
              "<Figure size 1000x600 with 1 Axes>"
            ],
            "image/png": "[encoded data removed]"
          },
          "metadata": {}
        }
      ]
    },
    {
      "cell_type": "code",
      "source": [],
      "metadata": {
        "id": "a5NQ3EjRfWsu"
      },
      "execution_count": null,
      "outputs": []
    }
  ]
}